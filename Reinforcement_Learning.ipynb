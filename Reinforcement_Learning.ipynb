{
  "cells": [
    {
      "cell_type": "markdown",
      "metadata": {
        "id": "MUDg6sS6JCLl"
      },
      "source": [
        "# Reinforcement Learning\n",
        "Matthew Bowker and Braydon Johnson\n"
      ]
    },
    {
      "cell_type": "markdown",
      "metadata": {
        "id": "ptgE6aaXJJ1K"
      },
      "source": [
        "# **Introduction**:\n",
        "\n",
        "Reinforcement learning is a type of machine learning, where an agent is given positive or negative reinforcement based on the decisions it makes. You can imagine this being like training a dog. If they do something good you reward them with a treat, if they do something wrong they get nothing."
      ]
    },
    {
      "cell_type": "markdown",
      "metadata": {
        "id": "JcVE_kBJKdpB"
      },
      "source": [
        "Machine Learning is a scietific discipline that is used for the developement of algorithms that allows computers to learn based on data."
      ]
    },
    {
      "cell_type": "markdown",
      "metadata": {
        "id": "sJNI4aRVun_m"
      },
      "source": [
        "# Some key features of Reinforcement Learning:\n",
        "* Agent: The learner or decision-maker that interacts with the environment.\n",
        "\n",
        "* Environment: The external system with which the agent interacts and learns from. It is the context in which the agent operates.\n",
        "\n",
        "* State: A representation of the current situation or configuration of the environment.\n",
        "\n",
        "* Action: The set of possible moves or decisions that the agent can make in a given state.\n",
        "\n",
        "* Reward: A numerical value that the agent receives as feedback from the environment after taking a particular action in a specific state. The reward signal is a crucial component as it guides the learning process.\n",
        "\n",
        "* Policy: A strategy or mapping from states to actions that the agent uses to make decisions. The policy can be deterministic or stochastic.\n",
        "\n",
        "* Value Function: A function that estimates the expected cumulative future rewards for a given state or state-action pair. It helps the agent evaluate the desirability of different states or actions.\n",
        "\n",
        "* Markov Decision Process (MDP): Reinforcement learning problems are often formulated as MDPs, which consist of a set of states, a set of actions, a transition function that describes how the environment changes from one state to another, and a reward function.\n",
        "\n",
        "* Learning Algorithm: The method or algorithm used by the agent to update its policy or value function based on the feedback received from the environment.\n",
        "\n",
        "* Episode: A sequence of interactions between the agent and the environment, usually starting from an initial state and continuing until a terminal state is reached.\n",
        "\n",
        "* Function Approximation: RL algorithms often use function approximation methods, such as neural networks, to represent policies or value functions.\n",
        "\n",
        "\n"
      ]
    },
    {
      "cell_type": "markdown",
      "metadata": {
        "id": "hZn0-gce2SW6"
      },
      "source": [
        "# How does reinforcemnet learning work?\n",
        "\n",
        "* an agent observes the current state of the environment\n",
        "* The agent then selects the next action from the action space of the environment, this action is based on what would be best in the current state\n",
        "* The environment then updates based on the action\n",
        "* The agent then revieces a reward based on the new state of the environment\n",
        "\n"
      ]
    },
    {
      "cell_type": "markdown",
      "metadata": {
        "id": "ZsmANBe1K9h1"
      },
      "source": [
        "Simplistic example:\n",
        "\n",
        "\n",
        "\n",
        "\n",
        "\n",
        "\n",
        "* Step 1:\n",
        "  * State: In state 10. Choose move A or B.\n",
        "  * Agent: Move B (Good Move)\n",
        "  * State: Reward 2 points\n",
        "* Step 2:\n",
        "  * State: In state 10. Choose move A or B.\n",
        "  * Agent: Move A (Bad Move)\n",
        "  * State: Reward -5 points"
      ]
    },
    {
      "cell_type": "markdown",
      "metadata": {
        "id": "8htLVfyXuopp"
      },
      "source": [
        "# **Beginner Implementation**:"
      ]
    },
    {
      "cell_type": "markdown",
      "metadata": {
        "id": "DfEJtWYEusHa"
      },
      "source": [
        "To begin with reinforcement learning there are a few things that need to be installed and setup."
      ]
    },
    {
      "cell_type": "code",
      "execution_count": null,
      "metadata": {
        "colab": {
          "base_uri": "https://localhost:8080/"
        },
        "id": "72yJW5FHu-IM",
        "outputId": "a2624b9c-078e-4d7f-8184-895ace5ebd84"
      },
      "outputs": [
        {
          "name": "stdout",
          "output_type": "stream",
          "text": [
            "Requirement already satisfied: tensorflow==2.8.0 in /usr/local/lib/python3.10/dist-packages (2.8.0)\n",
            "Requirement already satisfied: absl-py>=0.4.0 in /usr/local/lib/python3.10/dist-packages (from tensorflow==2.8.0) (1.4.0)\n",
            "Requirement already satisfied: astunparse>=1.6.0 in /usr/local/lib/python3.10/dist-packages (from tensorflow==2.8.0) (1.6.3)\n",
            "Requirement already satisfied: flatbuffers>=1.12 in /usr/local/lib/python3.10/dist-packages (from tensorflow==2.8.0) (23.5.26)\n",
            "Requirement already satisfied: gast>=0.2.1 in /usr/local/lib/python3.10/dist-packages (from tensorflow==2.8.0) (0.5.4)\n",
            "Requirement already satisfied: google-pasta>=0.1.1 in /usr/local/lib/python3.10/dist-packages (from tensorflow==2.8.0) (0.2.0)\n",
            "Requirement already satisfied: h5py>=2.9.0 in /usr/local/lib/python3.10/dist-packages (from tensorflow==2.8.0) (3.9.0)\n",
            "Requirement already satisfied: keras-preprocessing>=1.1.1 in /usr/local/lib/python3.10/dist-packages (from tensorflow==2.8.0) (1.1.2)\n",
            "Requirement already satisfied: libclang>=9.0.1 in /usr/local/lib/python3.10/dist-packages (from tensorflow==2.8.0) (16.0.6)\n",
            "Requirement already satisfied: numpy>=1.20 in /usr/local/lib/python3.10/dist-packages (from tensorflow==2.8.0) (1.23.5)\n",
            "Requirement already satisfied: opt-einsum>=2.3.2 in /usr/local/lib/python3.10/dist-packages (from tensorflow==2.8.0) (3.3.0)\n",
            "Requirement already satisfied: protobuf>=3.9.2 in /usr/local/lib/python3.10/dist-packages (from tensorflow==2.8.0) (3.20.3)\n",
            "Requirement already satisfied: setuptools in /usr/local/lib/python3.10/dist-packages (from tensorflow==2.8.0) (67.7.2)\n",
            "Requirement already satisfied: six>=1.12.0 in /usr/local/lib/python3.10/dist-packages (from tensorflow==2.8.0) (1.16.0)\n",
            "Requirement already satisfied: termcolor>=1.1.0 in /usr/local/lib/python3.10/dist-packages (from tensorflow==2.8.0) (2.3.0)\n",
            "Requirement already satisfied: typing-extensions>=3.6.6 in /usr/local/lib/python3.10/dist-packages (from tensorflow==2.8.0) (4.5.0)\n",
            "Requirement already satisfied: wrapt>=1.11.0 in /usr/local/lib/python3.10/dist-packages (from tensorflow==2.8.0) (1.14.1)\n",
            "Collecting tensorboard<2.9,>=2.8 (from tensorflow==2.8.0)\n",
            "  Using cached tensorboard-2.8.0-py3-none-any.whl (5.8 MB)\n",
            "Requirement already satisfied: tf-estimator-nightly==2.8.0.dev2021122109 in /usr/local/lib/python3.10/dist-packages (from tensorflow==2.8.0) (2.8.0.dev2021122109)\n",
            "Requirement already satisfied: keras<2.9,>=2.8.0rc0 in /usr/local/lib/python3.10/dist-packages (from tensorflow==2.8.0) (2.8.0)\n",
            "Requirement already satisfied: tensorflow-io-gcs-filesystem>=0.23.1 in /usr/local/lib/python3.10/dist-packages (from tensorflow==2.8.0) (0.34.0)\n",
            "Requirement already satisfied: grpcio<2.0,>=1.24.3 in /usr/local/lib/python3.10/dist-packages (from tensorflow==2.8.0) (1.59.2)\n",
            "Requirement already satisfied: wheel<1.0,>=0.23.0 in /usr/local/lib/python3.10/dist-packages (from astunparse>=1.6.0->tensorflow==2.8.0) (0.41.3)\n",
            "Requirement already satisfied: google-auth<3,>=1.6.3 in /usr/local/lib/python3.10/dist-packages (from tensorboard<2.9,>=2.8->tensorflow==2.8.0) (2.17.3)\n",
            "Requirement already satisfied: google-auth-oauthlib<0.5,>=0.4.1 in /usr/local/lib/python3.10/dist-packages (from tensorboard<2.9,>=2.8->tensorflow==2.8.0) (0.4.6)\n",
            "Requirement already satisfied: markdown>=2.6.8 in /usr/local/lib/python3.10/dist-packages (from tensorboard<2.9,>=2.8->tensorflow==2.8.0) (3.5.1)\n",
            "Requirement already satisfied: requests<3,>=2.21.0 in /usr/local/lib/python3.10/dist-packages (from tensorboard<2.9,>=2.8->tensorflow==2.8.0) (2.31.0)\n",
            "Requirement already satisfied: tensorboard-data-server<0.7.0,>=0.6.0 in /usr/local/lib/python3.10/dist-packages (from tensorboard<2.9,>=2.8->tensorflow==2.8.0) (0.6.1)\n",
            "Requirement already satisfied: tensorboard-plugin-wit>=1.6.0 in /usr/local/lib/python3.10/dist-packages (from tensorboard<2.9,>=2.8->tensorflow==2.8.0) (1.8.1)\n",
            "Requirement already satisfied: werkzeug>=0.11.15 in /usr/local/lib/python3.10/dist-packages (from tensorboard<2.9,>=2.8->tensorflow==2.8.0) (3.0.1)\n",
            "Requirement already satisfied: cachetools<6.0,>=2.0.0 in /usr/local/lib/python3.10/dist-packages (from google-auth<3,>=1.6.3->tensorboard<2.9,>=2.8->tensorflow==2.8.0) (5.3.2)\n",
            "Requirement already satisfied: pyasn1-modules>=0.2.1 in /usr/local/lib/python3.10/dist-packages (from google-auth<3,>=1.6.3->tensorboard<2.9,>=2.8->tensorflow==2.8.0) (0.3.0)\n",
            "Requirement already satisfied: rsa<5,>=3.1.4 in /usr/local/lib/python3.10/dist-packages (from google-auth<3,>=1.6.3->tensorboard<2.9,>=2.8->tensorflow==2.8.0) (4.9)\n",
            "Requirement already satisfied: requests-oauthlib>=0.7.0 in /usr/local/lib/python3.10/dist-packages (from google-auth-oauthlib<0.5,>=0.4.1->tensorboard<2.9,>=2.8->tensorflow==2.8.0) (1.3.1)\n",
            "Requirement already satisfied: charset-normalizer<4,>=2 in /usr/local/lib/python3.10/dist-packages (from requests<3,>=2.21.0->tensorboard<2.9,>=2.8->tensorflow==2.8.0) (3.3.2)\n",
            "Requirement already satisfied: idna<4,>=2.5 in /usr/local/lib/python3.10/dist-packages (from requests<3,>=2.21.0->tensorboard<2.9,>=2.8->tensorflow==2.8.0) (3.4)\n",
            "Requirement already satisfied: urllib3<3,>=1.21.1 in /usr/local/lib/python3.10/dist-packages (from requests<3,>=2.21.0->tensorboard<2.9,>=2.8->tensorflow==2.8.0) (2.0.7)\n",
            "Requirement already satisfied: certifi>=2017.4.17 in /usr/local/lib/python3.10/dist-packages (from requests<3,>=2.21.0->tensorboard<2.9,>=2.8->tensorflow==2.8.0) (2023.7.22)\n",
            "Requirement already satisfied: MarkupSafe>=2.1.1 in /usr/local/lib/python3.10/dist-packages (from werkzeug>=0.11.15->tensorboard<2.9,>=2.8->tensorflow==2.8.0) (2.1.3)\n",
            "Requirement already satisfied: pyasn1<0.6.0,>=0.4.6 in /usr/local/lib/python3.10/dist-packages (from pyasn1-modules>=0.2.1->google-auth<3,>=1.6.3->tensorboard<2.9,>=2.8->tensorflow==2.8.0) (0.5.0)\n",
            "Requirement already satisfied: oauthlib>=3.0.0 in /usr/local/lib/python3.10/dist-packages (from requests-oauthlib>=0.7.0->google-auth-oauthlib<0.5,>=0.4.1->tensorboard<2.9,>=2.8->tensorflow==2.8.0) (3.2.2)\n",
            "Installing collected packages: tensorboard\n",
            "  Attempting uninstall: tensorboard\n",
            "    Found existing installation: tensorboard 2.9.0\n",
            "    Uninstalling tensorboard-2.9.0:\n",
            "      Successfully uninstalled tensorboard-2.9.0\n",
            "Successfully installed tensorboard-2.8.0\n",
            "Requirement already satisfied: gym in /usr/local/lib/python3.10/dist-packages (0.25.2)\n",
            "Requirement already satisfied: numpy>=1.18.0 in /usr/local/lib/python3.10/dist-packages (from gym) (1.23.5)\n",
            "Requirement already satisfied: cloudpickle>=1.2.0 in /usr/local/lib/python3.10/dist-packages (from gym) (2.2.1)\n",
            "Requirement already satisfied: gym-notices>=0.0.4 in /usr/local/lib/python3.10/dist-packages (from gym) (0.0.8)\n",
            "Collecting keras==2.9.0\n",
            "  Using cached keras-2.9.0-py2.py3-none-any.whl (1.6 MB)\n",
            "Installing collected packages: keras\n",
            "  Attempting uninstall: keras\n",
            "    Found existing installation: keras 2.8.0\n",
            "    Uninstalling keras-2.8.0:\n",
            "      Successfully uninstalled keras-2.8.0\n",
            "\u001b[31mERROR: pip's dependency resolver does not currently take into account all the packages that are installed. This behaviour is the source of the following dependency conflicts.\n",
            "tensorflow 2.8.0 requires keras<2.9,>=2.8.0rc0, but you have keras 2.9.0 which is incompatible.\u001b[0m\u001b[31m\n",
            "\u001b[0mSuccessfully installed keras-2.9.0\n",
            "Requirement already satisfied: keras-rl2==1.0.5 in /usr/local/lib/python3.10/dist-packages (1.0.5)\n",
            "Requirement already satisfied: tensorflow in /usr/local/lib/python3.10/dist-packages (from keras-rl2==1.0.5) (2.8.0)\n",
            "Requirement already satisfied: absl-py>=0.4.0 in /usr/local/lib/python3.10/dist-packages (from tensorflow->keras-rl2==1.0.5) (1.4.0)\n",
            "Requirement already satisfied: astunparse>=1.6.0 in /usr/local/lib/python3.10/dist-packages (from tensorflow->keras-rl2==1.0.5) (1.6.3)\n",
            "Requirement already satisfied: flatbuffers>=1.12 in /usr/local/lib/python3.10/dist-packages (from tensorflow->keras-rl2==1.0.5) (23.5.26)\n",
            "Requirement already satisfied: gast>=0.2.1 in /usr/local/lib/python3.10/dist-packages (from tensorflow->keras-rl2==1.0.5) (0.5.4)\n",
            "Requirement already satisfied: google-pasta>=0.1.1 in /usr/local/lib/python3.10/dist-packages (from tensorflow->keras-rl2==1.0.5) (0.2.0)\n",
            "Requirement already satisfied: h5py>=2.9.0 in /usr/local/lib/python3.10/dist-packages (from tensorflow->keras-rl2==1.0.5) (3.9.0)\n",
            "Requirement already satisfied: keras-preprocessing>=1.1.1 in /usr/local/lib/python3.10/dist-packages (from tensorflow->keras-rl2==1.0.5) (1.1.2)\n",
            "Requirement already satisfied: libclang>=9.0.1 in /usr/local/lib/python3.10/dist-packages (from tensorflow->keras-rl2==1.0.5) (16.0.6)\n",
            "Requirement already satisfied: numpy>=1.20 in /usr/local/lib/python3.10/dist-packages (from tensorflow->keras-rl2==1.0.5) (1.23.5)\n",
            "Requirement already satisfied: opt-einsum>=2.3.2 in /usr/local/lib/python3.10/dist-packages (from tensorflow->keras-rl2==1.0.5) (3.3.0)\n",
            "Requirement already satisfied: protobuf>=3.9.2 in /usr/local/lib/python3.10/dist-packages (from tensorflow->keras-rl2==1.0.5) (3.20.3)\n",
            "Requirement already satisfied: setuptools in /usr/local/lib/python3.10/dist-packages (from tensorflow->keras-rl2==1.0.5) (67.7.2)\n",
            "Requirement already satisfied: six>=1.12.0 in /usr/local/lib/python3.10/dist-packages (from tensorflow->keras-rl2==1.0.5) (1.16.0)\n",
            "Requirement already satisfied: termcolor>=1.1.0 in /usr/local/lib/python3.10/dist-packages (from tensorflow->keras-rl2==1.0.5) (2.3.0)\n",
            "Requirement already satisfied: typing-extensions>=3.6.6 in /usr/local/lib/python3.10/dist-packages (from tensorflow->keras-rl2==1.0.5) (4.5.0)\n",
            "Requirement already satisfied: wrapt>=1.11.0 in /usr/local/lib/python3.10/dist-packages (from tensorflow->keras-rl2==1.0.5) (1.14.1)\n",
            "Requirement already satisfied: tensorboard<2.9,>=2.8 in /usr/local/lib/python3.10/dist-packages (from tensorflow->keras-rl2==1.0.5) (2.8.0)\n",
            "Requirement already satisfied: tf-estimator-nightly==2.8.0.dev2021122109 in /usr/local/lib/python3.10/dist-packages (from tensorflow->keras-rl2==1.0.5) (2.8.0.dev2021122109)\n",
            "Collecting keras<2.9,>=2.8.0rc0 (from tensorflow->keras-rl2==1.0.5)\n",
            "  Using cached keras-2.8.0-py2.py3-none-any.whl (1.4 MB)\n",
            "Requirement already satisfied: tensorflow-io-gcs-filesystem>=0.23.1 in /usr/local/lib/python3.10/dist-packages (from tensorflow->keras-rl2==1.0.5) (0.34.0)\n",
            "Requirement already satisfied: grpcio<2.0,>=1.24.3 in /usr/local/lib/python3.10/dist-packages (from tensorflow->keras-rl2==1.0.5) (1.59.2)\n",
            "Requirement already satisfied: wheel<1.0,>=0.23.0 in /usr/local/lib/python3.10/dist-packages (from astunparse>=1.6.0->tensorflow->keras-rl2==1.0.5) (0.41.3)\n",
            "Requirement already satisfied: google-auth<3,>=1.6.3 in /usr/local/lib/python3.10/dist-packages (from tensorboard<2.9,>=2.8->tensorflow->keras-rl2==1.0.5) (2.17.3)\n",
            "Requirement already satisfied: google-auth-oauthlib<0.5,>=0.4.1 in /usr/local/lib/python3.10/dist-packages (from tensorboard<2.9,>=2.8->tensorflow->keras-rl2==1.0.5) (0.4.6)\n",
            "Requirement already satisfied: markdown>=2.6.8 in /usr/local/lib/python3.10/dist-packages (from tensorboard<2.9,>=2.8->tensorflow->keras-rl2==1.0.5) (3.5.1)\n",
            "Requirement already satisfied: requests<3,>=2.21.0 in /usr/local/lib/python3.10/dist-packages (from tensorboard<2.9,>=2.8->tensorflow->keras-rl2==1.0.5) (2.31.0)\n",
            "Requirement already satisfied: tensorboard-data-server<0.7.0,>=0.6.0 in /usr/local/lib/python3.10/dist-packages (from tensorboard<2.9,>=2.8->tensorflow->keras-rl2==1.0.5) (0.6.1)\n",
            "Requirement already satisfied: tensorboard-plugin-wit>=1.6.0 in /usr/local/lib/python3.10/dist-packages (from tensorboard<2.9,>=2.8->tensorflow->keras-rl2==1.0.5) (1.8.1)\n",
            "Requirement already satisfied: werkzeug>=0.11.15 in /usr/local/lib/python3.10/dist-packages (from tensorboard<2.9,>=2.8->tensorflow->keras-rl2==1.0.5) (3.0.1)\n",
            "Requirement already satisfied: cachetools<6.0,>=2.0.0 in /usr/local/lib/python3.10/dist-packages (from google-auth<3,>=1.6.3->tensorboard<2.9,>=2.8->tensorflow->keras-rl2==1.0.5) (5.3.2)\n",
            "Requirement already satisfied: pyasn1-modules>=0.2.1 in /usr/local/lib/python3.10/dist-packages (from google-auth<3,>=1.6.3->tensorboard<2.9,>=2.8->tensorflow->keras-rl2==1.0.5) (0.3.0)\n",
            "Requirement already satisfied: rsa<5,>=3.1.4 in /usr/local/lib/python3.10/dist-packages (from google-auth<3,>=1.6.3->tensorboard<2.9,>=2.8->tensorflow->keras-rl2==1.0.5) (4.9)\n",
            "Requirement already satisfied: requests-oauthlib>=0.7.0 in /usr/local/lib/python3.10/dist-packages (from google-auth-oauthlib<0.5,>=0.4.1->tensorboard<2.9,>=2.8->tensorflow->keras-rl2==1.0.5) (1.3.1)\n",
            "Requirement already satisfied: charset-normalizer<4,>=2 in /usr/local/lib/python3.10/dist-packages (from requests<3,>=2.21.0->tensorboard<2.9,>=2.8->tensorflow->keras-rl2==1.0.5) (3.3.2)\n",
            "Requirement already satisfied: idna<4,>=2.5 in /usr/local/lib/python3.10/dist-packages (from requests<3,>=2.21.0->tensorboard<2.9,>=2.8->tensorflow->keras-rl2==1.0.5) (3.4)\n",
            "Requirement already satisfied: urllib3<3,>=1.21.1 in /usr/local/lib/python3.10/dist-packages (from requests<3,>=2.21.0->tensorboard<2.9,>=2.8->tensorflow->keras-rl2==1.0.5) (2.0.7)\n",
            "Requirement already satisfied: certifi>=2017.4.17 in /usr/local/lib/python3.10/dist-packages (from requests<3,>=2.21.0->tensorboard<2.9,>=2.8->tensorflow->keras-rl2==1.0.5) (2023.7.22)\n",
            "Requirement already satisfied: MarkupSafe>=2.1.1 in /usr/local/lib/python3.10/dist-packages (from werkzeug>=0.11.15->tensorboard<2.9,>=2.8->tensorflow->keras-rl2==1.0.5) (2.1.3)\n",
            "Requirement already satisfied: pyasn1<0.6.0,>=0.4.6 in /usr/local/lib/python3.10/dist-packages (from pyasn1-modules>=0.2.1->google-auth<3,>=1.6.3->tensorboard<2.9,>=2.8->tensorflow->keras-rl2==1.0.5) (0.5.0)\n",
            "Requirement already satisfied: oauthlib>=3.0.0 in /usr/local/lib/python3.10/dist-packages (from requests-oauthlib>=0.7.0->google-auth-oauthlib<0.5,>=0.4.1->tensorboard<2.9,>=2.8->tensorflow->keras-rl2==1.0.5) (3.2.2)\n",
            "Installing collected packages: keras\n",
            "  Attempting uninstall: keras\n",
            "    Found existing installation: keras 2.9.0\n",
            "    Uninstalling keras-2.9.0:\n",
            "      Successfully uninstalled keras-2.9.0\n",
            "Successfully installed keras-2.8.0\n",
            "Reading package lists... Done\n",
            "Building dependency tree... Done\n",
            "Reading state information... Done\n",
            "E: Unable to locate package python-opengl\n",
            "Reading package lists... Done\n",
            "Building dependency tree... Done\n",
            "Reading state information... Done\n",
            "xvfb is already the newest version (2:21.1.4-2ubuntu1.7~22.04.2).\n",
            "0 upgraded, 0 newly installed, 0 to remove and 17 not upgraded.\n",
            "Requirement already satisfied: pyvirtualdisplay in /usr/local/lib/python3.10/dist-packages (3.0)\n",
            "Requirement already satisfied: piglet in /usr/local/lib/python3.10/dist-packages (1.0.0)\n",
            "Requirement already satisfied: piglet-templates in /usr/local/lib/python3.10/dist-packages (from piglet) (1.3.0)\n",
            "Requirement already satisfied: pyparsing in /usr/local/lib/python3.10/dist-packages (from piglet-templates->piglet) (3.1.1)\n",
            "Requirement already satisfied: attrs in /usr/local/lib/python3.10/dist-packages (from piglet-templates->piglet) (23.1.0)\n",
            "Requirement already satisfied: astunparse in /usr/local/lib/python3.10/dist-packages (from piglet-templates->piglet) (1.6.3)\n",
            "Requirement already satisfied: markupsafe in /usr/local/lib/python3.10/dist-packages (from piglet-templates->piglet) (2.1.3)\n",
            "Requirement already satisfied: wheel<1.0,>=0.23.0 in /usr/local/lib/python3.10/dist-packages (from astunparse->piglet-templates->piglet) (0.41.3)\n",
            "Requirement already satisfied: six<2.0,>=1.6.1 in /usr/local/lib/python3.10/dist-packages (from astunparse->piglet-templates->piglet) (1.16.0)\n",
            "Reading package lists... Done\n",
            "Building dependency tree... Done\n",
            "Reading state information... Done\n",
            "x11-utils is already the newest version (7.7+5build2).\n",
            "0 upgraded, 0 newly installed, 0 to remove and 17 not upgraded.\n",
            "Requirement already satisfied: pyglet in /usr/local/lib/python3.10/dist-packages (2.0.10)\n",
            "Requirement already satisfied: ale-py in /usr/local/lib/python3.10/dist-packages (0.7.5)\n",
            "Requirement already satisfied: numpy in /usr/local/lib/python3.10/dist-packages (from ale-py) (1.23.5)\n",
            "Requirement already satisfied: importlib-resources in /usr/local/lib/python3.10/dist-packages (from ale-py) (6.1.1)\n",
            "Requirement already satisfied: stable_baselines in /usr/local/lib/python3.10/dist-packages (2.10.2)\n",
            "Requirement already satisfied: gym[atari,classic_control]>=0.11 in /usr/local/lib/python3.10/dist-packages (from stable_baselines) (0.25.2)\n",
            "Requirement already satisfied: scipy in /usr/local/lib/python3.10/dist-packages (from stable_baselines) (1.11.3)\n",
            "Requirement already satisfied: joblib in /usr/local/lib/python3.10/dist-packages (from stable_baselines) (1.3.2)\n",
            "Requirement already satisfied: cloudpickle>=0.5.5 in /usr/local/lib/python3.10/dist-packages (from stable_baselines) (2.2.1)\n",
            "Requirement already satisfied: opencv-python in /usr/local/lib/python3.10/dist-packages (from stable_baselines) (4.8.0.76)\n",
            "Requirement already satisfied: numpy in /usr/local/lib/python3.10/dist-packages (from stable_baselines) (1.23.5)\n",
            "Requirement already satisfied: pandas in /usr/local/lib/python3.10/dist-packages (from stable_baselines) (1.5.3)\n",
            "Requirement already satisfied: matplotlib in /usr/local/lib/python3.10/dist-packages (from stable_baselines) (3.7.1)\n",
            "Requirement already satisfied: gym-notices>=0.0.4 in /usr/local/lib/python3.10/dist-packages (from gym[atari,classic_control]>=0.11->stable_baselines) (0.0.8)\n",
            "Requirement already satisfied: pygame==2.1.0 in /usr/local/lib/python3.10/dist-packages (from gym[atari,classic_control]>=0.11->stable_baselines) (2.1.0)\n",
            "Requirement already satisfied: ale-py~=0.7.5 in /usr/local/lib/python3.10/dist-packages (from gym[atari,classic_control]>=0.11->stable_baselines) (0.7.5)\n",
            "Requirement already satisfied: contourpy>=1.0.1 in /usr/local/lib/python3.10/dist-packages (from matplotlib->stable_baselines) (1.2.0)\n",
            "Requirement already satisfied: cycler>=0.10 in /usr/local/lib/python3.10/dist-packages (from matplotlib->stable_baselines) (0.12.1)\n",
            "Requirement already satisfied: fonttools>=4.22.0 in /usr/local/lib/python3.10/dist-packages (from matplotlib->stable_baselines) (4.44.3)\n",
            "Requirement already satisfied: kiwisolver>=1.0.1 in /usr/local/lib/python3.10/dist-packages (from matplotlib->stable_baselines) (1.4.5)\n",
            "Requirement already satisfied: packaging>=20.0 in /usr/local/lib/python3.10/dist-packages (from matplotlib->stable_baselines) (23.2)\n",
            "Requirement already satisfied: pillow>=6.2.0 in /usr/local/lib/python3.10/dist-packages (from matplotlib->stable_baselines) (9.4.0)\n",
            "Requirement already satisfied: pyparsing>=2.3.1 in /usr/local/lib/python3.10/dist-packages (from matplotlib->stable_baselines) (3.1.1)\n",
            "Requirement already satisfied: python-dateutil>=2.7 in /usr/local/lib/python3.10/dist-packages (from matplotlib->stable_baselines) (2.8.2)\n",
            "Requirement already satisfied: pytz>=2020.1 in /usr/local/lib/python3.10/dist-packages (from pandas->stable_baselines) (2023.3.post1)\n",
            "Requirement already satisfied: importlib-resources in /usr/local/lib/python3.10/dist-packages (from ale-py~=0.7.5->gym[atari,classic_control]>=0.11->stable_baselines) (6.1.1)\n",
            "Requirement already satisfied: six>=1.5 in /usr/local/lib/python3.10/dist-packages (from python-dateutil>=2.7->matplotlib->stable_baselines) (1.16.0)\n",
            "Collecting tensorboard==2.9.0\n",
            "  Using cached tensorboard-2.9.0-py3-none-any.whl (5.8 MB)\n",
            "Requirement already satisfied: absl-py>=0.4 in /usr/local/lib/python3.10/dist-packages (from tensorboard==2.9.0) (1.4.0)\n",
            "Requirement already satisfied: grpcio>=1.24.3 in /usr/local/lib/python3.10/dist-packages (from tensorboard==2.9.0) (1.59.2)\n",
            "Requirement already satisfied: google-auth<3,>=1.6.3 in /usr/local/lib/python3.10/dist-packages (from tensorboard==2.9.0) (2.17.3)\n",
            "Requirement already satisfied: google-auth-oauthlib<0.5,>=0.4.1 in /usr/local/lib/python3.10/dist-packages (from tensorboard==2.9.0) (0.4.6)\n",
            "Requirement already satisfied: markdown>=2.6.8 in /usr/local/lib/python3.10/dist-packages (from tensorboard==2.9.0) (3.5.1)\n",
            "Requirement already satisfied: numpy>=1.12.0 in /usr/local/lib/python3.10/dist-packages (from tensorboard==2.9.0) (1.23.5)\n",
            "Requirement already satisfied: protobuf>=3.9.2 in /usr/local/lib/python3.10/dist-packages (from tensorboard==2.9.0) (3.20.3)\n",
            "Requirement already satisfied: requests<3,>=2.21.0 in /usr/local/lib/python3.10/dist-packages (from tensorboard==2.9.0) (2.31.0)\n",
            "Requirement already satisfied: setuptools>=41.0.0 in /usr/local/lib/python3.10/dist-packages (from tensorboard==2.9.0) (67.7.2)\n",
            "Requirement already satisfied: tensorboard-data-server<0.7.0,>=0.6.0 in /usr/local/lib/python3.10/dist-packages (from tensorboard==2.9.0) (0.6.1)\n",
            "Requirement already satisfied: tensorboard-plugin-wit>=1.6.0 in /usr/local/lib/python3.10/dist-packages (from tensorboard==2.9.0) (1.8.1)\n",
            "Requirement already satisfied: werkzeug>=1.0.1 in /usr/local/lib/python3.10/dist-packages (from tensorboard==2.9.0) (3.0.1)\n",
            "Requirement already satisfied: wheel>=0.26 in /usr/local/lib/python3.10/dist-packages (from tensorboard==2.9.0) (0.41.3)\n",
            "Requirement already satisfied: cachetools<6.0,>=2.0.0 in /usr/local/lib/python3.10/dist-packages (from google-auth<3,>=1.6.3->tensorboard==2.9.0) (5.3.2)\n",
            "Requirement already satisfied: pyasn1-modules>=0.2.1 in /usr/local/lib/python3.10/dist-packages (from google-auth<3,>=1.6.3->tensorboard==2.9.0) (0.3.0)\n",
            "Requirement already satisfied: six>=1.9.0 in /usr/local/lib/python3.10/dist-packages (from google-auth<3,>=1.6.3->tensorboard==2.9.0) (1.16.0)\n",
            "Requirement already satisfied: rsa<5,>=3.1.4 in /usr/local/lib/python3.10/dist-packages (from google-auth<3,>=1.6.3->tensorboard==2.9.0) (4.9)\n",
            "Requirement already satisfied: requests-oauthlib>=0.7.0 in /usr/local/lib/python3.10/dist-packages (from google-auth-oauthlib<0.5,>=0.4.1->tensorboard==2.9.0) (1.3.1)\n",
            "Requirement already satisfied: charset-normalizer<4,>=2 in /usr/local/lib/python3.10/dist-packages (from requests<3,>=2.21.0->tensorboard==2.9.0) (3.3.2)\n",
            "Requirement already satisfied: idna<4,>=2.5 in /usr/local/lib/python3.10/dist-packages (from requests<3,>=2.21.0->tensorboard==2.9.0) (3.4)\n",
            "Requirement already satisfied: urllib3<3,>=1.21.1 in /usr/local/lib/python3.10/dist-packages (from requests<3,>=2.21.0->tensorboard==2.9.0) (2.0.7)\n",
            "Requirement already satisfied: certifi>=2017.4.17 in /usr/local/lib/python3.10/dist-packages (from requests<3,>=2.21.0->tensorboard==2.9.0) (2023.7.22)\n",
            "Requirement already satisfied: MarkupSafe>=2.1.1 in /usr/local/lib/python3.10/dist-packages (from werkzeug>=1.0.1->tensorboard==2.9.0) (2.1.3)\n",
            "Requirement already satisfied: pyasn1<0.6.0,>=0.4.6 in /usr/local/lib/python3.10/dist-packages (from pyasn1-modules>=0.2.1->google-auth<3,>=1.6.3->tensorboard==2.9.0) (0.5.0)\n",
            "Requirement already satisfied: oauthlib>=3.0.0 in /usr/local/lib/python3.10/dist-packages (from requests-oauthlib>=0.7.0->google-auth-oauthlib<0.5,>=0.4.1->tensorboard==2.9.0) (3.2.2)\n",
            "Installing collected packages: tensorboard\n",
            "  Attempting uninstall: tensorboard\n",
            "    Found existing installation: tensorboard 2.8.0\n",
            "    Uninstalling tensorboard-2.8.0:\n",
            "      Successfully uninstalled tensorboard-2.8.0\n",
            "\u001b[31mERROR: pip's dependency resolver does not currently take into account all the packages that are installed. This behaviour is the source of the following dependency conflicts.\n",
            "tensorflow 2.8.0 requires tensorboard<2.9,>=2.8, but you have tensorboard 2.9.0 which is incompatible.\u001b[0m\u001b[31m\n",
            "\u001b[0mSuccessfully installed tensorboard-2.9.0\n"
          ]
        }
      ],
      "source": [
        "!pip install tensorflow==2.8.0\n",
        "!pip install gym\n",
        "!pip install keras==2.9.0\n",
        "!pip install keras-rl2==1.0.5\n",
        "!apt-get install python-opengl -y\n",
        "!apt install xvfb -y\n",
        "!pip install pyvirtualdisplay\n",
        "!pip install piglet\n",
        "!apt-get install x11-utils -y\n",
        "!pip install pyglet\n",
        "!pip install ale-py\n",
        "!pip install stable_baselines\n",
        "!pip install tensorboard==2.9.0"
      ]
    },
    {
      "cell_type": "code",
      "execution_count": null,
      "metadata": {
        "id": "b5oPQYYhvFtC"
      },
      "outputs": [],
      "source": [
        "import gym\n",
        "import random\n",
        "from IPython import display as ipythondisplay\n",
        "from pyvirtualdisplay import Display\n",
        "display = Display(visible=0, size=(400, 300)) # initialize the display\n",
        "display.start()\n",
        "import matplotlib.pyplot as plt\n",
        "%matplotlib inline\n"
      ]
    },
    {
      "cell_type": "markdown",
      "metadata": {
        "id": "_HJVShl5v4Q5"
      },
      "source": [
        "First we can look at an included package, from OpenAI for Python. This package that we will be using is called Gym."
      ]
    },
    {
      "cell_type": "code",
      "execution_count": null,
      "metadata": {
        "colab": {
          "base_uri": "https://localhost:8080/"
        },
        "id": "_g-re6dcwUnc",
        "outputId": "d9a543f7-737a-4dce-bd35-c60bb15c497f"
      },
      "outputs": [
        {
          "name": "stderr",
          "output_type": "stream",
          "text": [
            "/usr/local/lib/python3.10/dist-packages/ipykernel/ipkernel.py:283: DeprecationWarning: `should_run_async` will not call `transform_cell` automatically in the future. Please pass the result to `transformed_cell` argument and any exception that happen during thetransform in `preprocessing_exc_tuple` in IPython 7.17 and above.\n",
            "  and should_run_async(code)\n",
            "/usr/local/lib/python3.10/dist-packages/gym/envs/registration.py:593: UserWarning: \u001b[33mWARN: The environment CartPole-v0 is out of date. You should consider upgrading to version `v1`.\u001b[0m\n",
            "  logger.warn(\n",
            "/usr/local/lib/python3.10/dist-packages/gym/core.py:317: DeprecationWarning: \u001b[33mWARN: Initializing wrapper in old step API which returns one bool instead of two. It is recommended to set `new_step_api=True` to use new step API. This will be the default behaviour in future.\u001b[0m\n",
            "  deprecation(\n",
            "/usr/local/lib/python3.10/dist-packages/gym/wrappers/step_api_compatibility.py:39: DeprecationWarning: \u001b[33mWARN: Initializing environment in old step API which returns one bool instead of two. It is recommended to set `new_step_api=True` to use new step API. This will be the default behaviour in future.\u001b[0m\n",
            "  deprecation(\n"
          ]
        }
      ],
      "source": [
        "# To create an environment just pass the name of the environement to the function gym.make()\n",
        "name = \"CartPole-v0\"\n",
        "environment = gym.make(name)"
      ]
    },
    {
      "cell_type": "markdown",
      "metadata": {
        "id": "pS59JOPqxq_-"
      },
      "source": [
        "An agent in reinforcement learning sees an observation as the environment's state. There are two types of states for an agent: Partially observable and Fully Observable. There are also two types of actions in Reinforcement Learning. These actions are continuous or discrete. A discrete action being given by a finite value, while continuous has an infinite number of possible values."
      ]
    },
    {
      "cell_type": "code",
      "execution_count": null,
      "metadata": {
        "colab": {
          "base_uri": "https://localhost:8080/"
        },
        "id": "xNz5-g8qyLbX",
        "outputId": "da4ab390-a328-4926-feb0-84736dc17061"
      },
      "outputs": [
        {
          "name": "stdout",
          "output_type": "stream",
          "text": [
            "[-0.04524121 -0.03054837  0.00473611  0.01018488]\n",
            "(4,)\n",
            "Discrete(2)\n",
            "2\n"
          ]
        }
      ],
      "source": [
        "# Use the reset function to reset the environment\n",
        "state_0 = environment.reset()\n",
        "'''\n",
        " represented by four numbers:\n",
        "    posn of the cart\n",
        "    velocity of the cart\n",
        "    angular posn of the pole\n",
        "    angular velocity of the pole\n",
        "'''\n",
        "observation_space = environment.observation_space.shape\n",
        "action_space = environment.action_space\n",
        "num_actions = environment.action_space.n\n",
        "print(state_0)\n",
        "print(observation_space) # one-dimensional space with four elements\n",
        "print(action_space) # the agent can choose between two distinct actions at each time step\n",
        "print(num_actions)  # represents the number of possible actions in the discrete action space."
      ]
    },
    {
      "cell_type": "markdown",
      "metadata": {
        "id": "Afv7L9Kg3UFW"
      },
      "source": [
        "The output that I got when I ran it, each time the code cell is ran the intitial state will vary slightly but the remaining stays the same.\n",
        "* [-0.01307736 -0.04108622 -0.0398733  -0.01529541]\n",
        "* (4,)\n",
        "* Discrete(2)\n",
        "* 2\n",
        "\n"
      ]
    },
    {
      "cell_type": "markdown",
      "metadata": {
        "id": "007Dle3T3tSm"
      },
      "source": [
        "Observe the output above. What do each of these outputs mean?\n",
        "\n",
        "\n"
      ]
    },
    {
      "cell_type": "markdown",
      "metadata": {
        "id": "lBbVmDrn3L6w"
      },
      "source": [
        "Based on the output above:\n",
        "  * The first line of output represents the four values of the state\n",
        "    * -0.01307736 is the initial posn of the cart\n",
        "    * -0.041108622 is the initial velocity of the cart\n",
        "    * -0.0398733 is the initial angular posn of the pole\n",
        "    * -0.01529541 is the initial angular velocity of the pole\n",
        "  * (4,) represents the observation space\n",
        "  * Discrete(2) represents the environment action space\n",
        "  * 2 represents the number of actions in the environment"
      ]
    },
    {
      "cell_type": "code",
      "execution_count": null,
      "metadata": {
        "colab": {
          "base_uri": "https://localhost:8080/"
        },
        "id": "ylk6Awk6YyJa",
        "outputId": "dc8451f9-ecee-49f2-a97d-5a8984eb3b48"
      },
      "outputs": [
        {
          "name": "stdout",
          "output_type": "stream",
          "text": [
            "[-0.0048959   0.01541275 -0.01991401  0.01216654]\n",
            "0\n",
            "[-0.00458765 -0.17941803 -0.01967068  0.29850042]\n",
            "1.0\n",
            "False\n"
          ]
        }
      ],
      "source": [
        "intitial_obs = environment.reset()\n",
        "action = environment.action_space.sample()\n",
        "next_obs, reward, over, info = environment.step(action)\n",
        "print(intitial_obs) # the initial observation of the environment\n",
        "print(action) # the sampled action\n",
        "print(next_obs) # the observation of the environment after taking the action\n",
        "print(reward) # the reward obtained from taking the action\n",
        "print(over) # whether the episode is over"
      ]
    },
    {
      "cell_type": "markdown",
      "metadata": {
        "id": "-5YC8QieY47P"
      },
      "source": [
        "Random render is a method that takes in a frequency and takes in the number of episodes you want to render. In this case I have the frequency set at two and I only want to display one episode. This method uses ipythondisplay to display the\n",
        "environment. In this case we want to make the action be a random choice from the number of actions in the environment."
      ]
    },
    {
      "cell_type": "code",
      "execution_count": null,
      "metadata": {
        "id": "2zLEru0NmQ2s"
      },
      "outputs": [],
      "source": [
        "def random_render(render_frequency=2, episodes=1):\n",
        "    for ep in range(1, episodes+1):\n",
        "        s_0 = environment.reset()\n",
        "        over = False\n",
        "        points = 0\n",
        "        frame_count = 0\n",
        "        prev_screen = environment.render(mode='rgb_array')\n",
        "        plt.imshow(prev_screen)\n",
        "        while not over:\n",
        "            action = random.choice([0, 1])\n",
        "            s_n, reward, over, info = environment.step(action)\n",
        "            points += reward\n",
        "\n",
        "            # Render every 10 frames\n",
        "            frame_count += 1\n",
        "            if frame_count % render_frequency == 0:\n",
        "                screen = environment.render(mode='rgb_array')\n",
        "                plt.imshow(screen)\n",
        "                ipythondisplay.clear_output(wait=True)\n",
        "                ipythondisplay.display(plt.gcf())\n",
        "\n",
        "        ipythondisplay.clear_output(wait=True)\n",
        "        print(f\"Episode: {ep} Points: {points}\")"
      ]
    },
    {
      "cell_type": "code",
      "execution_count": null,
      "metadata": {
        "colab": {
          "base_uri": "https://localhost:8080/",
          "height": 413
        },
        "id": "2QPygCk9uKBb",
        "outputId": "086864fd-4841-4370-d731-4919964c0264"
      },
      "outputs": [
        {
          "name": "stdout",
          "output_type": "stream",
          "text": [
            "Episode: 1 Points: 11.0\n"
          ]
        },
        {
          "data": {
            "image/png": "[encoded data removed]",
            "text/plain": [
              "<Figure size 640x480 with 1 Axes>"
            ]
          },
          "metadata": {},
          "output_type": "display_data"
        }
      ],
      "source": [
        "random_render()"
      ]
    },
    {
      "cell_type": "markdown",
      "metadata": {
        "id": "BCc3LQOinyXP"
      },
      "source": [
        "For each step the pole is upright, the agent receives a point. The max points is 200."
      ]
    },
    {
      "cell_type": "markdown",
      "metadata": {
        "id": "Vzu6zPa5bdYY"
      },
      "source": [
        "Required Imports to train the agent using the off the shelf methods"
      ]
    },
    {
      "cell_type": "code",
      "execution_count": null,
      "metadata": {
        "id": "3xGrxFCh3cFH"
      },
      "outputs": [],
      "source": [
        "import numpy as np\n",
        "from keras.models import Sequential\n",
        "from keras.layers import Dense, Flatten\n",
        "from tensorflow.keras.optimizers import Adam\n",
        "from rl.agents import DQNAgent\n",
        "from rl.policy import BoltzmannQPolicy\n",
        "from rl.memory import SequentialMemory\n"
      ]
    },
    {
      "cell_type": "markdown",
      "metadata": {
        "id": "N3oDIlLzbmV2"
      },
      "source": [
        "Model Builder is a method that is used to create a neural network for the training of the agent.\n",
        "\n",
        "\n"
      ]
    },
    {
      "cell_type": "code",
      "execution_count": null,
      "metadata": {
        "colab": {
          "base_uri": "https://localhost:8080/"
        },
        "id": "dpZC8CF_30IT",
        "outputId": "a8ef91ba-9cb2-46b1-94ad-d7f0af987e42"
      },
      "outputs": [
        {
          "name": "stderr",
          "output_type": "stream",
          "text": [
            "/usr/local/lib/python3.10/dist-packages/ipykernel/ipkernel.py:283: DeprecationWarning: `should_run_async` will not call `transform_cell` automatically in the future. Please pass the result to `transformed_cell` argument and any exception that happen during thetransform in `preprocessing_exc_tuple` in IPython 7.17 and above.\n",
            "  and should_run_async(code)\n"
          ]
        },
        {
          "name": "stdout",
          "output_type": "stream",
          "text": [
            "Model: \"sequential\"\n",
            "_________________________________________________________________\n",
            " Layer (type)                Output Shape              Param #   \n",
            "=================================================================\n",
            " flatten (Flatten)           (None, 4)                 0         \n",
            "                                                                 \n",
            " dense (Dense)               (None, 24)                120       \n",
            "                                                                 \n",
            " dense_1 (Dense)             (None, 24)                600       \n",
            "                                                                 \n",
            " dense_2 (Dense)             (None, 2)                 50        \n",
            "                                                                 \n",
            "=================================================================\n",
            "Total params: 770\n",
            "Trainable params: 770\n",
            "Non-trainable params: 0\n",
            "_________________________________________________________________\n"
          ]
        }
      ],
      "source": [
        "def model_builder(obs, actions):\n",
        "  model= Sequential()\n",
        "  model.add(Flatten(input_shape=(1,obs[0])))\n",
        "  model.add(Dense(24, activation='relu')) # creates a dense layer of 24 neurons use the Relu function\n",
        "  model.add(Dense(24, activation='relu')) # creates another dense layer of 24 neurons use the Relu function\n",
        "  model.add(Dense(units=actions, activation='relu')) # add the last layer of the network based on the number of actions in the environment\n",
        "  return model\n",
        "\n",
        "model  = model_builder(observation_space, action_space.n)\n",
        "model.summary()"
      ]
    },
    {
      "cell_type": "markdown",
      "metadata": {
        "id": "zLGtUH0kqxot"
      },
      "source": [
        "Policy Based Reinforcement Learning:\n",
        "\n",
        "* State of the environment starts out at a random state\n",
        "* Actions are random and the agens learns based on the rewards given from the actions\n",
        "* The agents evaluates each action after they have taken them.\n",
        "* After several iterations, the agent begins to learn and remember what actions produced good outcomes.\n",
        "* Eventually the policy can be considered an optimal policy, which means that it yields good rewards and leads the agent to the goal.\n",
        "\n",
        "\n",
        "\n"
      ]
    },
    {
      "cell_type": "code",
      "execution_count": null,
      "metadata": {
        "id": "LmQpmcOgqlPQ"
      },
      "outputs": [],
      "source": [
        "def agent_builder(model, actions):\n",
        "  pol = BoltzmannQPolicy() # off the shelf policy for exploration\n",
        "  mem = SequentialMemory(limit=50000, window_length=1) # initializes the memory buffer that stores the most recent actions\n",
        "  dqn = DQNAgent(model=model, memory=mem, policy=pol, nb_actions=actions, nb_steps_warmup=10, target_model_update=1e-2) # makes the agent based on model, memory, and policy\n",
        "  return dqn"
      ]
    },
    {
      "cell_type": "code",
      "execution_count": null,
      "metadata": {
        "colab": {
          "base_uri": "https://localhost:8080/"
        },
        "id": "lxB14cHhvxVl",
        "outputId": "328ea73e-230d-4e42-dc00-a9fa4850bbd7"
      },
      "outputs": [
        {
          "name": "stdout",
          "output_type": "stream",
          "text": [
            "Training for 20000 steps ...\n",
            "Interval 1 (0 steps performed)\n",
            "\r    1/10000 [..............................] - ETA: 11:03 - reward: 1.0000"
          ]
        },
        {
          "name": "stderr",
          "output_type": "stream",
          "text": [
            "/usr/local/lib/python3.10/dist-packages/keras/engine/training_v1.py:2079: UserWarning: `Model.state_updates` will be removed in a future version. This property should not be used in TensorFlow 2.0, as `updates` are applied automatically.\n",
            "  updates=self.state_updates,\n",
            "/usr/local/lib/python3.10/dist-packages/rl/memory.py:37: UserWarning: Not enough entries to sample without replacement. Consider increasing your warm-up phase to avoid oversampling!\n",
            "  warnings.warn('Not enough entries to sample without replacement. Consider increasing your warm-up phase to avoid oversampling!')\n",
            "/usr/local/lib/python3.10/dist-packages/rl/memory.py:38: DeprecationWarning: This function is deprecated. Please call randint(1, 10 + 1) instead\n",
            "  batch_idxs = np.random.random_integers(low, high - 1, size=size)\n"
          ]
        },
        {
          "name": "stdout",
          "output_type": "stream",
          "text": [
            "   19/10000 [..............................] - ETA: 12:21 - reward: 1.0000"
          ]
        },
        {
          "name": "stderr",
          "output_type": "stream",
          "text": [
            "/usr/local/lib/python3.10/dist-packages/rl/memory.py:38: DeprecationWarning: This function is deprecated. Please call randint(1, 11 + 1) instead\n",
            "  batch_idxs = np.random.random_integers(low, high - 1, size=size)\n",
            "/usr/local/lib/python3.10/dist-packages/rl/memory.py:38: DeprecationWarning: This function is deprecated. Please call randint(1, 12 + 1) instead\n",
            "  batch_idxs = np.random.random_integers(low, high - 1, size=size)\n",
            "/usr/local/lib/python3.10/dist-packages/rl/memory.py:38: DeprecationWarning: This function is deprecated. Please call randint(1, 13 + 1) instead\n",
            "  batch_idxs = np.random.random_integers(low, high - 1, size=size)\n",
            "/usr/local/lib/python3.10/dist-packages/rl/memory.py:38: DeprecationWarning: This function is deprecated. Please call randint(1, 14 + 1) instead\n",
            "  batch_idxs = np.random.random_integers(low, high - 1, size=size)\n",
            "/usr/local/lib/python3.10/dist-packages/rl/memory.py:38: DeprecationWarning: This function is deprecated. Please call randint(1, 15 + 1) instead\n",
            "  batch_idxs = np.random.random_integers(low, high - 1, size=size)\n",
            "/usr/local/lib/python3.10/dist-packages/rl/memory.py:38: DeprecationWarning: This function is deprecated. Please call randint(1, 16 + 1) instead\n",
            "  batch_idxs = np.random.random_integers(low, high - 1, size=size)\n",
            "/usr/local/lib/python3.10/dist-packages/rl/memory.py:38: DeprecationWarning: This function is deprecated. Please call randint(1, 17 + 1) instead\n",
            "  batch_idxs = np.random.random_integers(low, high - 1, size=size)\n",
            "/usr/local/lib/python3.10/dist-packages/rl/memory.py:38: DeprecationWarning: This function is deprecated. Please call randint(1, 18 + 1) instead\n",
            "  batch_idxs = np.random.random_integers(low, high - 1, size=size)\n",
            "/usr/local/lib/python3.10/dist-packages/rl/memory.py:38: DeprecationWarning: This function is deprecated. Please call randint(1, 19 + 1) instead\n",
            "  batch_idxs = np.random.random_integers(low, high - 1, size=size)\n",
            "/usr/local/lib/python3.10/dist-packages/rl/memory.py:38: DeprecationWarning: This function is deprecated. Please call randint(1, 20 + 1) instead\n",
            "  batch_idxs = np.random.random_integers(low, high - 1, size=size)\n"
          ]
        },
        {
          "name": "stdout",
          "output_type": "stream",
          "text": [
            "   28/10000 [..............................] - ETA: 9:41 - reward: 1.0000 "
          ]
        },
        {
          "name": "stderr",
          "output_type": "stream",
          "text": [
            "/usr/local/lib/python3.10/dist-packages/rl/memory.py:38: DeprecationWarning: This function is deprecated. Please call randint(1, 21 + 1) instead\n",
            "  batch_idxs = np.random.random_integers(low, high - 1, size=size)\n",
            "/usr/local/lib/python3.10/dist-packages/rl/memory.py:38: DeprecationWarning: This function is deprecated. Please call randint(1, 22 + 1) instead\n",
            "  batch_idxs = np.random.random_integers(low, high - 1, size=size)\n",
            "/usr/local/lib/python3.10/dist-packages/rl/memory.py:38: DeprecationWarning: This function is deprecated. Please call randint(1, 23 + 1) instead\n",
            "  batch_idxs = np.random.random_integers(low, high - 1, size=size)\n",
            "/usr/local/lib/python3.10/dist-packages/rl/memory.py:38: DeprecationWarning: This function is deprecated. Please call randint(1, 24 + 1) instead\n",
            "  batch_idxs = np.random.random_integers(low, high - 1, size=size)\n",
            "/usr/local/lib/python3.10/dist-packages/rl/memory.py:38: DeprecationWarning: This function is deprecated. Please call randint(1, 25 + 1) instead\n",
            "  batch_idxs = np.random.random_integers(low, high - 1, size=size)\n",
            "/usr/local/lib/python3.10/dist-packages/rl/memory.py:38: DeprecationWarning: This function is deprecated. Please call randint(1, 26 + 1) instead\n",
            "  batch_idxs = np.random.random_integers(low, high - 1, size=size)\n",
            "/usr/local/lib/python3.10/dist-packages/rl/memory.py:38: DeprecationWarning: This function is deprecated. Please call randint(1, 27 + 1) instead\n",
            "  batch_idxs = np.random.random_integers(low, high - 1, size=size)\n",
            "/usr/local/lib/python3.10/dist-packages/rl/memory.py:38: DeprecationWarning: This function is deprecated. Please call randint(1, 28 + 1) instead\n",
            "  batch_idxs = np.random.random_integers(low, high - 1, size=size)\n"
          ]
        },
        {
          "name": "stdout",
          "output_type": "stream",
          "text": [
            "   36/10000 [..............................] - ETA: 8:29 - reward: 1.0000"
          ]
        },
        {
          "name": "stderr",
          "output_type": "stream",
          "text": [
            "/usr/local/lib/python3.10/dist-packages/rl/memory.py:38: DeprecationWarning: This function is deprecated. Please call randint(1, 29 + 1) instead\n",
            "  batch_idxs = np.random.random_integers(low, high - 1, size=size)\n",
            "/usr/local/lib/python3.10/dist-packages/rl/memory.py:38: DeprecationWarning: This function is deprecated. Please call randint(1, 30 + 1) instead\n",
            "  batch_idxs = np.random.random_integers(low, high - 1, size=size)\n",
            "/usr/local/lib/python3.10/dist-packages/rl/memory.py:38: DeprecationWarning: This function is deprecated. Please call randint(1, 31 + 1) instead\n",
            "  batch_idxs = np.random.random_integers(low, high - 1, size=size)\n"
          ]
        },
        {
          "name": "stdout",
          "output_type": "stream",
          "text": [
            "10000/10000 [==============================] - 98s 10ms/step - reward: 1.0000\n",
            "1048 episodes - episode_reward: 9.535 [8.000, 53.000] - loss: 1.109 - mae: 0.331 - mean_q: 4.997\n",
            "\n",
            "Interval 2 (10000 steps performed)\n",
            "10000/10000 [==============================] - 87s 9ms/step - reward: 1.0000\n",
            "done, took 185.335 seconds\n"
          ]
        },
        {
          "data": {
            "text/plain": [
              "<keras.callbacks.History at 0x79102fa51ae0>"
            ]
          },
          "execution_count": 11,
          "metadata": {},
          "output_type": "execute_result"
        }
      ],
      "source": [
        "#training our RL Agent\n",
        "dqn = agent_builder(model, num_actions)# initializes the DQN agent\n",
        "dqn.compile(Adam(learning_rate=1e-3), metrics=['mae']) # compiles the agent and specifies the learning rate to 1e-3 and sets\n",
        "# monitors the training with mean absolute error\n",
        "dqn.fit(environment, nb_steps=20000, visualize=False, verbose=1) #uses the off the shelf training method to train the agent"
      ]
    },
    {
      "cell_type": "markdown",
      "metadata": {
        "id": "_0dpA20jgWwv"
      },
      "source": [
        "Using ipythondisplay again we can now render our environment but with a trained agent."
      ]
    },
    {
      "cell_type": "code",
      "execution_count": null,
      "metadata": {
        "colab": {
          "base_uri": "https://localhost:8080/",
          "height": 792
        },
        "id": "27Sw8e7U84DP",
        "outputId": "603eb945-813f-41e4-a18c-796411e72e7e"
      },
      "outputs": [
        {
          "data": {
            "image/png": "[encoded data removed]",
            "text/plain": [
              "<Figure size 640x480 with 1 Axes>"
            ]
          },
          "metadata": {},
          "output_type": "display_data"
        },
        {
          "name": "stdout",
          "output_type": "stream",
          "text": [
            "Cumulative Reward (Score): 10.0\n"
          ]
        },
        {
          "data": {
            "image/png": "[encoded data removed]",
            "text/plain": [
              "<Figure size 640x480 with 1 Axes>"
            ]
          },
          "metadata": {},
          "output_type": "display_data"
        }
      ],
      "source": [
        "render_frequency = 10  # Render every 10 frames\n",
        "cumulative_reward = 0\n",
        "for episode in range(1):\n",
        "    state = environment.reset()\n",
        "    done = False\n",
        "    frame_count = 0\n",
        "\n",
        "    while not done:\n",
        "        # Uses the built in forward method to choose the next state\n",
        "        action = dqn.forward(state)\n",
        "        # passes the input through the neural network and produces the output\n",
        "\n",
        "        # Take the chosen action and observe the next state and reward\n",
        "        next_state, reward, done, _ = environment.step(action)\n",
        "\n",
        "        # Accumulate the cumulative reward\n",
        "        cumulative_reward += reward\n",
        "\n",
        "        # Custome rendering code that only displays the screen every render_frequency\n",
        "        if frame_count % render_frequency == 0:\n",
        "            screen = environment.render(mode='rgb_array')\n",
        "            plt.imshow(screen)\n",
        "            ipythondisplay.clear_output(wait=True)\n",
        "            ipythondisplay.display(plt.gcf())\n",
        "\n",
        "        # Move to the next state\n",
        "        state = next_state\n",
        "        frame_count += 1\n",
        "\n",
        "# Print the cumulative reward (score) received during the episode\n",
        "print(\"Cumulative Reward (Score):\", cumulative_reward)\n",
        "\n",
        "# Close the virtual display when done\n",
        "#display.stop()"
      ]
    },
    {
      "cell_type": "markdown",
      "metadata": {
        "id": "64Er2BiMgTc2"
      },
      "source": [
        "The output this time for our score is 200, which is the max score for this environment. After being trained, the agent can effectively stabilize the pole by moving the cart left or right."
      ]
    },
    {
      "cell_type": "markdown",
      "metadata": {
        "id": "R7njZGP1-l1H"
      },
      "source": [
        "# Intermediate Implementation"
      ]
    },
    {
      "cell_type": "code",
      "execution_count": null,
      "metadata": {
        "colab": {
          "base_uri": "https://localhost:8080/"
        },
        "id": "GTO3FlpHeIqz",
        "outputId": "39ea6b83-b39c-43ef-c61f-4f183b8a0a48"
      },
      "outputs": [
        {
          "name": "stdout",
          "output_type": "stream",
          "text": [
            "\r0% [Working]\r            \rHit:1 https://cloud.r-project.org/bin/linux/ubuntu jammy-cran40/ InRelease\n",
            "Hit:2 https://developer.download.nvidia.com/compute/cuda/repos/ubuntu2204/x86_64  InRelease\n",
            "Hit:3 http://security.ubuntu.com/ubuntu jammy-security InRelease\n",
            "Hit:4 http://archive.ubuntu.com/ubuntu jammy InRelease\n",
            "Hit:5 http://archive.ubuntu.com/ubuntu jammy-updates InRelease\n",
            "Hit:6 http://archive.ubuntu.com/ubuntu jammy-backports InRelease\n",
            "Hit:7 https://ppa.launchpadcontent.net/c2d4u.team/c2d4u4.0+/ubuntu jammy InRelease\n",
            "Hit:8 https://ppa.launchpadcontent.net/deadsnakes/ppa/ubuntu jammy InRelease\n",
            "Hit:9 https://ppa.launchpadcontent.net/graphics-drivers/ppa/ubuntu jammy InRelease\n",
            "Hit:10 https://ppa.launchpadcontent.net/ubuntugis/ppa/ubuntu jammy InRelease\n",
            "Reading package lists... Done\n",
            "Reading package lists... Done\n",
            "Building dependency tree... Done\n",
            "Reading state information... Done\n",
            "swig is already the newest version (4.0.2-1ubuntu1).\n",
            "python3-dev is already the newest version (3.10.6-1~22.04).\n",
            "0 upgraded, 0 newly installed, 0 to remove and 17 not upgraded.\n",
            "Requirement already satisfied: gym[box2d] in /usr/local/lib/python3.10/dist-packages (0.25.2)\n",
            "Requirement already satisfied: numpy>=1.18.0 in /usr/local/lib/python3.10/dist-packages (from gym[box2d]) (1.23.5)\n",
            "Requirement already satisfied: cloudpickle>=1.2.0 in /usr/local/lib/python3.10/dist-packages (from gym[box2d]) (2.2.1)\n",
            "Requirement already satisfied: gym-notices>=0.0.4 in /usr/local/lib/python3.10/dist-packages (from gym[box2d]) (0.0.8)\n",
            "Requirement already satisfied: box2d-py==2.3.5 in /usr/local/lib/python3.10/dist-packages (from gym[box2d]) (2.3.5)\n",
            "Requirement already satisfied: pygame==2.1.0 in /usr/local/lib/python3.10/dist-packages (from gym[box2d]) (2.1.0)\n",
            "Requirement already satisfied: swig==4.* in /usr/local/lib/python3.10/dist-packages (from gym[box2d]) (4.1.1.post0)\n"
          ]
        }
      ],
      "source": [
        "!apt-get update\n",
        "!apt-get install -y python3-dev swig\n",
        "!pip install gym[box2d]\n",
        "#dependency that allows the lunar lander environment\n"
      ]
    },
    {
      "cell_type": "markdown",
      "metadata": {
        "id": "LKdtpxsCjIuU"
      },
      "source": [
        "The objective of this environment is to have the spaceship land upright and in between the flags."
      ]
    },
    {
      "cell_type": "code",
      "execution_count": null,
      "metadata": {
        "colab": {
          "base_uri": "https://localhost:8080/"
        },
        "id": "Xg_izsCtheR9",
        "outputId": "af7cbf2d-29c3-489b-f2b5-fa5c89f6c6f5"
      },
      "outputs": [
        {
          "name": "stderr",
          "output_type": "stream",
          "text": [
            "/usr/local/lib/python3.10/dist-packages/gym/core.py:317: DeprecationWarning: \u001b[33mWARN: Initializing wrapper in old step API which returns one bool instead of two. It is recommended to set `new_step_api=True` to use new step API. This will be the default behaviour in future.\u001b[0m\n",
            "  deprecation(\n",
            "/usr/local/lib/python3.10/dist-packages/gym/wrappers/step_api_compatibility.py:39: DeprecationWarning: \u001b[33mWARN: Initializing environment in old step API which returns one bool instead of two. It is recommended to set `new_step_api=True` to use new step API. This will be the default behaviour in future.\u001b[0m\n",
            "  deprecation(\n"
          ]
        }
      ],
      "source": [
        "environment2 = gym.make('LunarLander-v2')\n"
      ]
    },
    {
      "cell_type": "markdown",
      "metadata": {
        "id": "HvR8rI475djY"
      },
      "source": [
        "Observe the environment below"
      ]
    },
    {
      "cell_type": "code",
      "execution_count": null,
      "metadata": {
        "colab": {
          "base_uri": "https://localhost:8080/"
        },
        "id": "ts1HOTOfptdv",
        "outputId": "21d9e75c-0462-4977-ea81-6022e340d95e"
      },
      "outputs": [
        {
          "name": "stdout",
          "output_type": "stream",
          "text": [
            "[-0.0054637   1.404274   -0.5534233  -0.2953924   0.00633779  0.12535848\n",
            "  0.          0.        ]\n",
            "(8,)\n",
            "Discrete(4)\n",
            "4\n"
          ]
        }
      ],
      "source": [
        "# Use the reset function to reset the environment\n",
        "state_0 = environment2.reset()\n",
        "\n",
        "observation_space2 = environment2.observation_space.shape\n",
        "action_space2 = environment2.action_space\n",
        "num_actions2 = environment2.action_space.n\n",
        "print(state_0)\n",
        "print(observation_space2)\n",
        "print(action_space2)\n",
        "print(num_actions2)"
      ]
    },
    {
      "cell_type": "markdown",
      "metadata": {
        "id": "6aNm-CAhmv5G"
      },
      "source": [
        "Model_builder2 is the same nueral network as the first, but has 8 nodes in the output instead of 4"
      ]
    },
    {
      "cell_type": "code",
      "execution_count": null,
      "metadata": {
        "id": "BWU3uTPZiIpR"
      },
      "outputs": [],
      "source": [
        "def model_builder2(obs, actions):\n",
        "    model = Sequential()\n",
        "    model.add(Flatten(input_shape=(1,8)))\n",
        "    model.add(Dense(24, activation='relu'))\n",
        "    model.add(Dense(24, activation='relu'))\n",
        "    model.add(Dense(actions, activation='linear'))\n",
        "    return model\n"
      ]
    },
    {
      "cell_type": "markdown",
      "metadata": {
        "id": "dnc8jvSBihkO"
      },
      "source": [
        "Using model2.summary() allows us to see the neural networl and its layers"
      ]
    },
    {
      "cell_type": "code",
      "execution_count": null,
      "metadata": {
        "colab": {
          "base_uri": "https://localhost:8080/"
        },
        "id": "wg4fvp_5iJy6",
        "outputId": "12ff3bd3-9b1f-41a6-f026-1761be2608a5"
      },
      "outputs": [
        {
          "name": "stdout",
          "output_type": "stream",
          "text": [
            "Model: \"sequential_1\"\n",
            "_________________________________________________________________\n",
            " Layer (type)                Output Shape              Param #   \n",
            "=================================================================\n",
            " flatten_1 (Flatten)         (None, 8)                 0         \n",
            "                                                                 \n",
            " dense_3 (Dense)             (None, 24)                216       \n",
            "                                                                 \n",
            " dense_4 (Dense)             (None, 24)                600       \n",
            "                                                                 \n",
            " dense_5 (Dense)             (None, 4)                 100       \n",
            "                                                                 \n",
            "=================================================================\n",
            "Total params: 916\n",
            "Trainable params: 916\n",
            "Non-trainable params: 0\n",
            "_________________________________________________________________\n"
          ]
        }
      ],
      "source": [
        "model2 = model_builder2(observation_space2, num_actions2)\n",
        "model2.summary()"
      ]
    },
    {
      "cell_type": "code",
      "execution_count": null,
      "metadata": {
        "id": "rYPT7LE6pzvG"
      },
      "outputs": [],
      "source": [
        "def random_renderv2(render_frequency=5, episodes=1):\n",
        "    for ep in range(1, episodes+1):\n",
        "        s_0 = environment2.reset()\n",
        "        over = False\n",
        "        points = 0\n",
        "        frame_count = 0\n",
        "        prev_screen = environment2.render(mode='rgb_array')\n",
        "        plt.imshow(prev_screen)\n",
        "        while not over:\n",
        "            action = random.choice([0, 3])\n",
        "            s_n, reward, over, info = environment2.step(action)\n",
        "            points += reward\n",
        "            frame_count += 1\n",
        "            if frame_count % render_frequency == 0:\n",
        "                screen = environment2.render(mode='rgb_array')\n",
        "                plt.imshow(screen)\n",
        "                ipythondisplay.clear_output(wait=True)\n",
        "                ipythondisplay.display(plt.gcf())\n",
        "\n",
        "        ipythondisplay.clear_output(wait=True)\n",
        "        print(f\"Episode: {ep} Points: {points}\")"
      ]
    },
    {
      "cell_type": "markdown",
      "metadata": {
        "id": "12GYp7egjR-F"
      },
      "source": [
        "When running random_renderv2() it is obvious that choosing a random action does not give the spaceship the best chance of landing. Unlike the first environment there is not really a max score, the goal is to achieve a positive score."
      ]
    },
    {
      "cell_type": "code",
      "execution_count": null,
      "metadata": {
        "colab": {
          "base_uri": "https://localhost:8080/",
          "height": 413
        },
        "id": "gw3I504Erlib",
        "outputId": "449ef362-2dd7-4ed7-d59f-7d43e8b1bd1a"
      },
      "outputs": [
        {
          "name": "stdout",
          "output_type": "stream",
          "text": [
            "Episode: 1 Points: -394.2813245168048\n"
          ]
        },
        {
          "data": {
            "image/png": "[encoded data removed]",
            "text/plain": [
              "<Figure size 640x480 with 1 Axes>"
            ]
          },
          "metadata": {},
          "output_type": "display_data"
        }
      ],
      "source": [
        "random_renderv2()"
      ]
    },
    {
      "cell_type": "markdown",
      "metadata": {
        "id": "8vzSJ7Rl7k1f"
      },
      "source": [
        "Custom Training method that takes in 8 parameters:\n",
        "\n",
        "\n",
        "* agent - the specified agent when calling the method\n",
        "* env - the specified environment when calling the method\n",
        "* total_steps - total number of steps the agent will take in the environment\n",
        "* batch_size - the number of experiences sampled from the replay at each update to train the agent\n",
        "* update_targer_every - frequency at which the target Q-network is updated with the weights of the main Q-network\n",
        "* visualize - determines if you will see the environment during training.(Which has not worked for me in Google Colab)\n",
        "* verbose - if greater than 0 prints information about the training process\n",
        "* replay_buffer_size - maximum size of the replay buffer\n",
        "\n"
      ]
    },
    {
      "cell_type": "code",
      "execution_count": null,
      "metadata": {
        "id": "1aZDyrTxDs9H"
      },
      "outputs": [],
      "source": [
        "def custom_fit(agent, env, total_steps, batch_size=32, update_target_every=1000, visualize=False, verbose=1, replay_buffer_size=50000):\n",
        "    state = env.reset()\n",
        "    total_reward = 0\n",
        "    step = 0\n",
        "\n",
        "    replay_buffer = []  # Initialize an empty replay buffer to remeber the previous actions taken\n",
        "\n",
        "    while step < total_steps:\n",
        "        # Choose action based on DQN agent's forward method\n",
        "        action = agent.forward(state)\n",
        "\n",
        "        # Take action in the environment\n",
        "        next_state, reward, done, _ = env.step(action)\n",
        "\n",
        "        # Store experience in the replay buffer\n",
        "        replay_buffer.append((state, action, reward, next_state, done))\n",
        "\n",
        "        # Perform a backward pass to update the Q-network\n",
        "        # Sample a random batch from the replay buffer and update the agent\n",
        "        if len(replay_buffer) >= batch_size:\n",
        "          indices = np.random.choice(len(replay_buffer), batch_size, replace=False)\n",
        "          batch = [replay_buffer[i] for i in indices]\n",
        "          states, actions, rewards, next_states, dones = zip(*batch)\n",
        "          agent.backward(np.array(rewards), terminal=np.array(dones))\n",
        "\n",
        "        # Update state and total reward\n",
        "        state = next_state\n",
        "        total_reward += reward\n",
        "        step += 1\n",
        "\n",
        "        # Update target network every N steps\n",
        "        if step % update_target_every == 0:\n",
        "            agent.target_model.set_weights(agent.model.get_weights())\n",
        "\n",
        "        if done:\n",
        "            # Reset the environment when an episode is done\n",
        "            state = env.reset()\n",
        "            if verbose > 0:\n",
        "                print(f\"Step {step}, Total Reward: {total_reward}\")\n",
        "            total_reward = 0\n",
        "\n",
        "    env.close()\n"
      ]
    },
    {
      "cell_type": "markdown",
      "metadata": {
        "id": "5whIVoAW9nG7"
      },
      "source": [
        "Trained_Render method that takes three parameter:\n",
        "* env - specific environment when the method is called\n",
        "* render_frequency - determines how often the display is updated with the new state\n",
        "* agent - specific agent when the method is called"
      ]
    },
    {
      "cell_type": "code",
      "execution_count": null,
      "metadata": {
        "id": "-nOA5PKEoowU"
      },
      "outputs": [],
      "source": [
        "def trained_render(env, render_frequency, agent):\n",
        "    cumulative_reward = 0\n",
        "\n",
        "    for episode in range(1):\n",
        "        state = env.reset()\n",
        "        done = False\n",
        "        frame_count = 0\n",
        "\n",
        "        while not done:\n",
        "            # Your action selection logic\n",
        "            action = agent.forward(state)\n",
        "\n",
        "            # Take the chosen action and observe the next state and reward\n",
        "            next_state, reward, done, _ = env.step(action)\n",
        "\n",
        "            # Accumulate the cumulative reward\n",
        "            cumulative_reward += reward\n",
        "\n",
        "            if frame_count % render_frequency == 0:\n",
        "                screen = env.render(mode='rgb_array')\n",
        "                plt.imshow(screen)\n",
        "                ipythondisplay.clear_output(wait=True)\n",
        "                ipythondisplay.display(plt.gcf())\n",
        "\n",
        "            # Move to the next state\n",
        "            state = next_state\n",
        "            frame_count += 1\n",
        "\n",
        "    # Print the cumulative reward after the episode is done\n",
        "    print(\"Cumulative Reward:\", cumulative_reward)\n"
      ]
    },
    {
      "cell_type": "code",
      "execution_count": null,
      "metadata": {
        "colab": {
          "base_uri": "https://localhost:8080/"
        },
        "id": "3owVTvTwv-PA",
        "outputId": "a162c7d9-4cde-4bb8-a69d-6b86c5b6c215"
      },
      "outputs": [
        {
          "name": "stdout",
          "output_type": "stream",
          "text": [
            "Step 115, Total Reward: -754.0327799805069\n",
            "Step 464, Total Reward: -3730.3416870189103\n",
            "Step 633, Total Reward: -902.0470827009183\n",
            "Step 793, Total Reward: -1042.862271209408\n",
            "Step 866, Total Reward: -574.1004823970762\n",
            "Step 957, Total Reward: -662.7638602403373\n"
          ]
        }
      ],
      "source": [
        "model2 = model_builder2(observation_space2,num_actions2)\n",
        "dqn2 = agent_builder(model2,num_actions2)\n",
        "dqn2.compile(Adam(learning_rate=1e-3), metrics=['mae'])\n",
        "# compiles the agent and specifies the learning rate to 1e-3\n",
        "# sometimes you have to adjust the learning rate to get better scores when training\n",
        "# also set the metrics based on mean absolute error\n",
        "custom_fit(dqn2, environment2, total_steps=1000, visualize=False, verbose=1)"
      ]
    },
    {
      "cell_type": "markdown",
      "metadata": {
        "id": "cia9oNr1qKkK"
      },
      "source": [
        "Using my custom training method, I have seen some positive scores but I mainly achieve scores close to zero. But other times it seems to wander off the edge of the screen giving me huge negative scores."
      ]
    },
    {
      "cell_type": "code",
      "execution_count": null,
      "metadata": {
        "colab": {
          "background_save": true,
          "base_uri": "https://localhost:8080/",
          "height": 396
        },
        "id": "fkWSUoewVRyj",
        "outputId": "0b588dc1-e175-44b7-9975-32885b82c8ee"
      },
      "outputs": [
        {
          "data": {
            "image/png": "[encoded data removed]",
            "text/plain": [
              "<Figure size 640x480 with 1 Axes>"
            ]
          },
          "metadata": {},
          "output_type": "display_data"
        },
        {
          "name": "stdout",
          "output_type": "stream",
          "text": [
            "Cumulative Reward: -1053.8807837341706\n"
          ]
        },
        {
          "data": {
            "image/png": "[encoded data removed]",
            "text/plain": [
              "<Figure size 640x480 with 1 Axes>"
            ]
          },
          "metadata": {},
          "output_type": "display_data"
        }
      ],
      "source": [
        "trained_render(environment2, 5, dqn2)"
      ]
    },
    {
      "cell_type": "markdown",
      "metadata": {
        "id": "4GxPbbKfUfwC"
      },
      "source": [
        "Off the Shelf Training method for lunar lander."
      ]
    },
    {
      "cell_type": "code",
      "execution_count": null,
      "metadata": {
        "colab": {
          "background_save": true
        },
        "id": "l2SBSJM7QP7-",
        "outputId": "2145526d-bbff-472b-b2b6-8dc99ada0358"
      },
      "outputs": [
        {
          "name": "stdout",
          "output_type": "stream",
          "text": [
            "Training for 20000 steps ...\n",
            "Interval 1 (0 steps performed)\n",
            "10000/10000 [==============================] - 86s 9ms/step - reward: -0.5829\n",
            "65 episodes - episode_reward: -90.984 [-638.792, 225.950] - loss: 24.707 - mae: 13.004 - mean_q: 8.159\n",
            "\n",
            "Interval 2 (10000 steps performed)\n",
            "10000/10000 [==============================] - 96s 10ms/step - reward: -0.1310\n",
            "done, took 181.529 seconds\n"
          ]
        },
        {
          "data": {
            "text/plain": [
              "<keras.callbacks.History at 0x79102bc2e8c0>"
            ]
          },
          "execution_count": 24,
          "metadata": {},
          "output_type": "execute_result"
        }
      ],
      "source": [
        "dqn3 = agent_builder(model2,num_actions2)\n",
        "dqn3.compile(Adam(learning_rate=1e-3), metrics=['mae'])\n",
        "dqn3.fit(environment2, nb_steps=20000, visualize=False, verbose=1)\n",
        "## NOTE: nb_steps is the amount steps the agent will take during training"
      ]
    },
    {
      "cell_type": "code",
      "execution_count": null,
      "metadata": {
        "colab": {
          "background_save": true
        },
        "id": "QM7SdTg_V8xm",
        "outputId": "d503947e-609f-4857-b955-e0aacf3745b7"
      },
      "outputs": [
        {
          "data": {
            "image/png": "[encoded data removed]",
            "text/plain": [
              "<Figure size 640x480 with 1 Axes>"
            ]
          },
          "metadata": {},
          "output_type": "display_data"
        },
        {
          "name": "stdout",
          "output_type": "stream",
          "text": [
            "Cumulative Reward: -110.69108041225378\n"
          ]
        },
        {
          "data": {
            "image/png": "[encoded data removed]",
            "text/plain": [
              "<Figure size 640x480 with 1 Axes>"
            ]
          },
          "metadata": {},
          "output_type": "display_data"
        }
      ],
      "source": [
        "trained_render(environment2,20,dqn3)"
      ]
    },
    {
      "cell_type": "markdown",
      "metadata": {
        "id": "yjjmZAYHgOo0"
      },
      "source": [
        "## True Lunar Lander implementation"
      ]
    },
    {
      "cell_type": "markdown",
      "metadata": {
        "id": "eoydAJD0hNhr"
      },
      "source": [
        "Before training\n",
        "\n",
        "<img style=\"display: block;-webkit-user-select: none;margin: auto;background-color: hsl(0, 0%, 90%);\" src=\"https://raw.githubusercontent.com/anh-nn01/Lunar-Lander-Double-Deep-Q-Networks/master/Misc/Initial.gif\">"
      ]
    },
    {
      "cell_type": "code",
      "execution_count": null,
      "metadata": {
        "colab": {
          "background_save": true
        },
        "id": "6cX1ck7xTX3F",
        "outputId": "7c152ba9-9edb-49f7-afa0-533d86cd335f"
      },
      "outputs": [
        {
          "name": "stderr",
          "output_type": "stream",
          "text": [
            "WARNING:tensorflow:From /usr/local/lib/python3.10/dist-packages/tensorflow/python/compat/v2_compat.py:107: disable_resource_variables (from tensorflow.python.ops.variable_scope) is deprecated and will be removed in a future version.\n",
            "Instructions for updating:\n",
            "non-resource variables are not supported in the long term\n"
          ]
        }
      ],
      "source": [
        "import numpy as np\n",
        "\n",
        "import gym\n",
        "\n",
        "import tensorflow.compat.v1 as tf\n",
        "from tensorflow.keras import Model, Sequential\n",
        "from tensorflow.keras.layers import Dense, Embedding, Reshape\n",
        "from tensorflow.keras.optimizers import Adam\n",
        "\n",
        "import matplotlib.pyplot as plt\n",
        "import random\n",
        "from collections import deque\n",
        "import time\n",
        "tf.disable_v2_behavior() # testing on tensorflow 1\n",
        "\n",
        "class Agent:\n",
        "    def __init__(self, env, optimizer, batch_size):\n",
        "        # general info\n",
        "        self.state_size = env.observation_space.shape[0] # number of factors in the state; e.g: velocity, position, etc\n",
        "        self.action_size = env.action_space.n\n",
        "        self.optimizer = optimizer\n",
        "        self.batch_size = batch_size\n",
        "\n",
        "        # allow large replay exp space\n",
        "        self.replay_exp = deque(maxlen=1000000)\n",
        "\n",
        "        self.gamma = 0.99\n",
        "        self.epsilon = 1.0 # initialize with high exploration, which will decay later\n",
        "\n",
        "        # Build Policy Network\n",
        "        self.brain_policy = Sequential()\n",
        "        self.brain_policy.add(Dense(128, input_dim = self.state_size, activation = \"relu\"))\n",
        "        self.brain_policy.add(Dense(128 , activation = \"relu\"))\n",
        "        self.brain_policy.add(Dense(self.action_size, activation = \"linear\"))\n",
        "        self.brain_policy.compile(loss = \"mse\", optimizer = self.optimizer)\n",
        "\n",
        "\n",
        "        # Build Target Network\n",
        "        self.brain_target = Sequential()\n",
        "        self.brain_target.add(Dense(128, input_dim = self.state_size, activation = \"relu\"))\n",
        "        self.brain_target.add(Dense(128 , activation = \"relu\"))\n",
        "        self.brain_target.add(Dense(self.action_size, activation = \"linear\"))\n",
        "        self.brain_target.compile(loss = \"mse\", optimizer = self.optimizer)\n",
        "\n",
        "\n",
        "        self.update_brain_target()\n",
        "\n",
        "    # add new experience to the replay exp\n",
        "    def memorize_exp(self, state, action, reward, next_state, done):\n",
        "        self.replay_exp.append((state, action, reward, next_state, done))\n",
        "\n",
        "    def update_brain_target(self):\n",
        "        return self.brain_target.set_weights(self.brain_policy.get_weights())\n",
        "\n",
        "    def choose_action(self, state):\n",
        "        if np.random.uniform(0.0, 1.0) < self.epsilon: # exploration\n",
        "            action = np.random.choice(self.action_size)\n",
        "        else:\n",
        "            state = np.reshape(state, [1, state_size])\n",
        "            qhat = self.brain_policy.predict(state) # output Q(s,a) for all a of current state\n",
        "            action = np.argmax(qhat[0]) # because the output is m * n, so we need to consider the dimension [0]\n",
        "\n",
        "        return action\n",
        "\n",
        "    # update params in NN\n",
        "    def learn(self):\n",
        "        # take a mini-batch from replay experience\n",
        "        cur_batch_size = min(len(self.replay_exp), self.batch_size)\n",
        "        mini_batch = random.sample(self.replay_exp, cur_batch_size)\n",
        "\n",
        "        # batch data\n",
        "        sample_states = np.ndarray(shape = (cur_batch_size, self.state_size)) # replace 128 with cur_batch_size\n",
        "        sample_actions = np.ndarray(shape = (cur_batch_size, 1))\n",
        "        sample_rewards = np.ndarray(shape = (cur_batch_size, 1))\n",
        "        sample_next_states = np.ndarray(shape = (cur_batch_size, self.state_size))\n",
        "        sample_dones = np.ndarray(shape = (cur_batch_size, 1))\n",
        "\n",
        "        temp=0\n",
        "        for exp in mini_batch:\n",
        "            sample_states[temp] = exp[0]\n",
        "            sample_actions[temp] = exp[1]\n",
        "            sample_rewards[temp] = exp[2]\n",
        "            sample_next_states[temp] = exp[3]\n",
        "            sample_dones[temp] = exp[4]\n",
        "            temp += 1\n",
        "\n",
        "\n",
        "        sample_qhat_next = self.brain_target.predict(sample_next_states)\n",
        "\n",
        "        # set all Q values terminal states to 0\n",
        "        sample_qhat_next = sample_qhat_next * (np.ones(shape = sample_dones.shape) - sample_dones)\n",
        "        # choose max action for each state\n",
        "        sample_qhat_next = np.max(sample_qhat_next, axis=1)\n",
        "\n",
        "        sample_qhat = self.brain_policy.predict(sample_states)\n",
        "\n",
        "        for i in range(cur_batch_size):\n",
        "            a = sample_actions[i,0]\n",
        "            sample_qhat[i,int(a)] = sample_rewards[i] + self.gamma * sample_qhat_next[i]\n",
        "\n",
        "        q_target = sample_qhat\n",
        "\n",
        "        self.brain_policy.fit(sample_states, q_target, epochs = 1, verbose = 0)\n",
        "\n",
        "env = gym.make(\"LunarLander-v2\")\n",
        "optimizer = Adam(learning_rate = 0.0001)\n",
        "\n",
        "agent = Agent(env, optimizer, batch_size = 64)\n",
        "state_size = env.observation_space.shape[0]\n"
      ]
    },
    {
      "cell_type": "code",
      "execution_count": null,
      "metadata": {
        "colab": {
          "background_save": true
        },
        "id": "W21MguE8aSQj"
      },
      "outputs": [],
      "source": [
        "from IPython.display import display, clear_output\n",
        "import matplotlib.pyplot as plt\n",
        "import numpy as np\n",
        "from collections import deque\n",
        "\n",
        "def train_render(env, render_frequency, agent):\n",
        "\n",
        "  timestep=0\n",
        "  rewards = []\n",
        "  aver_reward = []\n",
        "  aver = deque(maxlen=100)\n",
        "  frame_count = 0\n",
        "\n",
        "  for episode in range(50):\n",
        "      state = env.reset()\n",
        "      total_reward = 0\n",
        "      done = False\n",
        "\n",
        "      while not done:\n",
        "          action = agent.choose_action(state)\n",
        "          next_state, reward, done, info = env.step(action)\n",
        "\n",
        "          #env.render()\n",
        "\n",
        "          total_reward += reward\n",
        "\n",
        "          agent.memorize_exp(state, action, reward, next_state, done)\n",
        "          agent.learn()\n",
        "\n",
        "          '''\n",
        "          if timestep % render_frequency == 0:\n",
        "              screen = env.render(mode='rgb_array')\n",
        "              plt.imshow(screen)\n",
        "              plt.show()\n",
        "              clear_output(wait=True)\n",
        "          '''\n",
        "          state = next_state\n",
        "          timestep += 1\n",
        "\n",
        "\n",
        "      aver.append(total_reward)\n",
        "      aver_reward.append(np.mean(aver))\n",
        "\n",
        "      rewards.append(total_reward)\n",
        "\n",
        "      # update model_target after each episode\n",
        "      agent.update_brain_target()\n",
        "\n",
        "      agent.epsilon = max(0.1, 0.995 * agent.epsilon) # decaying exploration\n",
        "      print(\"Episode \", episode, total_reward)\n",
        "\n",
        "'''\n",
        "plt.title(\"Learning Curve\")\n",
        "plt.xlabel(\"Episode\")\n",
        "plt.ylabel(\"Reward\")\n",
        "plt.plot(rewards)\n",
        "\n",
        "plt.xlabel(\"Episode\")\n",
        "plt.ylabel(\"Reward\")\n",
        "plt.plot(aver_reward, 'r')\n",
        " '''\n",
        "env.close()"
      ]
    },
    {
      "cell_type": "code",
      "execution_count": null,
      "metadata": {
        "colab": {
          "background_save": true
        },
        "id": "xyVF8bRliI0D",
        "outputId": "45776051-c0d7-4331-bfad-70b2445ef735"
      },
      "outputs": [
        {
          "name": "stdout",
          "output_type": "stream",
          "text": [
            "Episode  0 -272.74049792477933\n",
            "Episode  1 -330.0630768666334\n",
            "Episode  2 -145.36302818218257\n",
            "Episode  3 -103.985345879447\n",
            "Episode  4 -137.9138960236099\n",
            "Episode  5 -334.70282086193674\n",
            "Episode  6 -185.6313946320297\n",
            "Episode  7 -221.44937088047132\n",
            "Episode  8 -169.44961828679118\n",
            "Episode  9 -245.08316099255893\n",
            "Episode  10 -219.86242430447487\n",
            "Episode  11 -171.92156864350974\n",
            "Episode  12 -379.1780510554812\n",
            "Episode  13 -504.85967236430986\n",
            "Episode  14 -197.36542024363047\n",
            "Episode  15 -57.812692923093365\n",
            "Episode  16 -228.4649927291232\n",
            "Episode  17 -112.22064097413838\n",
            "Episode  18 -124.96091923297882\n",
            "Episode  19 -65.58550466809884\n",
            "Episode  20 -298.9358910778159\n",
            "Episode  21 -68.61890043402624\n",
            "Episode  22 -130.25841264398755\n",
            "Episode  23 -62.03148519892741\n",
            "Episode  24 -164.46337930551312\n",
            "Episode  25 -104.37683159820679\n",
            "Episode  26 -69.94613048058733\n",
            "Episode  27 -174.92125912624294\n",
            "Episode  28 -115.72376805479547\n",
            "Episode  29 -117.5377883197087\n",
            "Episode  30 -171.09312234977153\n",
            "Episode  31 -89.05913883993327\n",
            "Episode  32 -236.7298560973557\n",
            "Episode  33 -104.92736699912699\n",
            "Episode  34 -113.69440488895351\n",
            "Episode  35 -94.74252984355638\n",
            "Episode  36 -158.6888730243539\n",
            "Episode  37 -264.56789370892795\n",
            "Episode  38 -93.81815669458214\n",
            "Episode  39 -33.902561634831116\n",
            "Episode  40 -100.96381718220697\n",
            "Episode  41 22.46949868036286\n",
            "Episode  42 -257.4266319511736\n",
            "Episode  43 -116.3801714775291\n",
            "Episode  44 -125.56437051742012\n",
            "Episode  45 -237.03960253135486\n",
            "Episode  46 -78.54924912671683\n",
            "Episode  47 -135.74823134884792\n",
            "Episode  48 -228.76156275794574\n",
            "Episode  49 -85.33913262414491\n"
          ]
        }
      ],
      "source": [
        "train_render(env,20,agent)"
      ]
    },
    {
      "cell_type": "markdown",
      "metadata": {
        "id": "yXsRuedsha3e"
      },
      "source": [
        "After training\n",
        "\n",
        "<img alt=\"NextGen.gif\" src=\"https://github.com/anh-nn01/Lunar-Lander-Double-Deep-Q-Networks/blob/master/Misc/NextGen.gif?raw=true\" data-hpc=\"true\" class=\"Box-sc-g0xbh4-0 kzRgrI\">"
      ]
    },
    {
      "cell_type": "markdown",
      "metadata": {
        "id": "ScahVt5Lgkur"
      },
      "source": [
        "![image.png](data:image/png;base64,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)"
      ]
    },
    {
      "cell_type": "markdown",
      "metadata": {
        "id": "LZKO9kwj5wYx"
      },
      "source": [
        "# Below are the links to the videos and websites that helped make this Folder.\n",
        "\n",
        "* https://machinelearningknowledge.ai/beginners-guide-to-what-is-policy-in-reinforcement-learning/#:~:text=The%20agent%20learns%20the%20good%20policy%20in%20an,these%20actions%20lead%20to%20good%20or%20bad%20rewards.\n",
        "* https://www.youtube.com/watch?v=cO5g5qLrLSo\n",
        "* https://www.youtube.com/watch?v=nRHjymV2PX8\n",
        "* https://colab.research.google.com/github/khipu-ai/practicals-2023/blob/main/notebooks/reinforcement_learning.ipynb\n",
        "* https://github.com/anh-nn01/Lunar-Lander-Double-Deep-Q-Networks"
      ]
    }
  ],
  "metadata": {
    "colab": {
      "provenance": []
    },
    "kernelspec": {
      "display_name": "Python 3",
      "name": "python3"
    },
    "language_info": {
      "name": "python"
    }
  },
  "nbformat": 4,
  "nbformat_minor": 0
}